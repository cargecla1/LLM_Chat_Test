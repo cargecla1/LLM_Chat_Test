{
  "cells": [
    {
      "cell_type": "markdown",
      "id": "956ff3a4",
      "metadata": {
        "id": "956ff3a4"
      },
      "source": [
        "# Chat\n",
        "\n",
        "Recall the overall workflow for retrieval augmented generation (RAG):"
      ]
    },
    {
      "cell_type": "markdown",
      "id": "231abd66",
      "metadata": {
        "id": "231abd66"
      },
      "source": [
        "![overview.jpeg](attachment:overview.jpeg)"
      ]
    },
    {
      "cell_type": "markdown",
      "id": "d98fb4f3",
      "metadata": {
        "id": "d98fb4f3"
      },
      "source": [
        "We discussed `Document Loading` and `Splitting` as well as `Storage` and `Retrieval`.\n",
        "\n",
        "We then showed how `Retrieval` can be used for output generation in Q+A using `RetrievalQA` chain."
      ]
    },
    {
      "cell_type": "code",
      "source": [
        "!pip install langchain\n",
        "!pip install transformers > /dev/null"
      ],
      "metadata": {
        "id": "pGhuWNdhKqUW"
      },
      "id": "pGhuWNdhKqUW",
      "execution_count": null,
      "outputs": []
    },
    {
      "cell_type": "code",
      "source": [
        "from langchain import HuggingFacePipeline\n",
        "\n",
        "llm = HuggingFacePipeline.from_model_id(\n",
        "    model_id=\"meta-llama/Llama-2-7b-chat\",\n",
        "    task=\"text-generation\",\n",
        "    model_kwargs={\"temperature\": 0, \"max_length\": 64},\n",
        ")"
      ],
      "metadata": {
        "id": "NujTBNt6LNJI"
      },
      "id": "NujTBNt6LNJI",
      "execution_count": null,
      "outputs": []
    },
    {
      "cell_type": "code",
      "execution_count": null,
      "id": "926fc482-dd03-40e1-8083-171aad3e2b26",
      "metadata": {
        "tags": [],
        "id": "926fc482-dd03-40e1-8083-171aad3e2b26"
      },
      "outputs": [],
      "source": [
        "#import os\n",
        "#import openai\n",
        "#import sys\n",
        "#sys.path.append('../..')\n",
        "\n",
        "#import panel as pn  # GUI\n",
        "#pn.extension()\n",
        "\n",
        "#from dotenv import load_dotenv, find_dotenv\n",
        "#_ = load_dotenv(find_dotenv()) # read local .env file\n",
        "\n",
        "#openai.api_key  = os.environ['OPENAI_API_KEY']"
      ]
    },
    {
      "cell_type": "markdown",
      "id": "b146a687-501c-443a-b540-1de4b084c43b",
      "metadata": {
        "id": "b146a687-501c-443a-b540-1de4b084c43b"
      },
      "source": [
        "The code below was added to assign the openai LLM version filmed until it is deprecated, currently in Sept 2023.\n",
        "LLM responses can often vary, but the responses may be significantly different when using a different model version."
      ]
    },
    {
      "cell_type": "code",
      "execution_count": null,
      "id": "83558969-e5aa-4fbc-933c-9c1534decf0a",
      "metadata": {
        "tags": [],
        "id": "83558969-e5aa-4fbc-933c-9c1534decf0a"
      },
      "outputs": [],
      "source": [
        "import datetime\n",
        "current_date = datetime.datetime.now().date()\n",
        "if current_date < datetime.date(2023, 9, 2):\n",
        "    llm_name = \"Llama-2-7b-chat\"\n",
        "else:\n",
        "    llm_name = \"Llama-2-7b-chat\"\n",
        "print(llm_name)"
      ]
    },
    {
      "cell_type": "markdown",
      "id": "c13b2f46",
      "metadata": {
        "id": "c13b2f46"
      },
      "source": [
        "If you wish to experiment on `LangChain plus platform`:\n",
        "\n",
        " * Go to [langchain plus platform](https://www.langchain.plus/) and sign up\n",
        " * Create an api key from your account's settings\n",
        " * Use this api key in the code below"
      ]
    },
    {
      "cell_type": "code",
      "execution_count": null,
      "id": "ba19ea7d",
      "metadata": {
        "tags": [],
        "id": "ba19ea7d"
      },
      "outputs": [],
      "source": [
        "#import os\n",
        "#os.environ[\"LANGCHAIN_TRACING_V2\"] = \"true\"\n",
        "#os.environ[\"LANGCHAIN_ENDPOINT\"] = \"https://api.langchain.plus\"\n",
        "#os.environ[\"LANGCHAIN_API_KEY\"] = \"...\""
      ]
    },
    {
      "cell_type": "code",
      "execution_count": null,
      "id": "ab80dc86",
      "metadata": {
        "tags": [],
        "id": "ab80dc86"
      },
      "outputs": [],
      "source": [
        "from langchain.vectorstores import Chroma\n",
        "#from langchain.embeddings.openai import OpenAIEmbeddings\n",
        "from langchain.embeddings import HuggingFaceEmbeddings\n",
        "persist_directory = 'docs/chroma/'\n",
        "#embedding = OpenAIEmbeddings()\n",
        "embeddings = HuggingFaceEmbeddings()\n",
        "vectordb = Chroma(persist_directory=persist_directory, embedding_function=embedding)"
      ]
    },
    {
      "cell_type": "code",
      "execution_count": null,
      "id": "b7a409bf",
      "metadata": {
        "tags": [],
        "id": "b7a409bf"
      },
      "outputs": [],
      "source": [
        "#question = \"What are major topics for this class?\"\n",
        "#docs = vectordb.similarity_search(question,k=3)\n",
        "#len(docs)"
      ]
    },
    {
      "cell_type": "code",
      "execution_count": null,
      "id": "01c58c2b",
      "metadata": {
        "tags": [],
        "id": "01c58c2b"
      },
      "outputs": [],
      "source": [
        "#from langchain.chat_models import ChatOpenAI\n",
        "#llm = ChatOpenAI(model_name=llm_name, temperature=0)\n",
        "#llm.predict(\"Hello world!\")"
      ]
    },
    {
      "cell_type": "code",
      "source": [
        "from langchain.chat_models.azureml_endpoint import AzureMLChatOnlineEndpoint\n",
        "\n",
        "#azure_chat\n",
        "llm = AzureMLChatOnlineEndpoint(\n",
        "    endpoint_url=\"https://<your-endpoint>.<your_region>.inference.ml.azure.com/score\",   #add AzureML endpoint url\n",
        "    endpoint_api_key=\"my-api-key\",                                                       #add AzureML api key for the endpoint\n",
        "    content_formatter=content_formatter,\n",
        ")\n",
        "\n",
        "\n",
        "#llm = AzureMLChatOnlineEndpoint(endpoint_url=\"https://<your-endpoint>.<your_region>.inference.ml.azure.com/score\", endpoint_api_key=\"my-api-key\", content_formatter=content_formatter,)\n",
        "\n",
        "llm.predict(\"Hello world!\")"
      ],
      "metadata": {
        "id": "dUztEQHvT7oz"
      },
      "id": "dUztEQHvT7oz",
      "execution_count": null,
      "outputs": []
    },
    {
      "cell_type": "code",
      "execution_count": null,
      "id": "b8aa6c11",
      "metadata": {
        "tags": [],
        "id": "b8aa6c11"
      },
      "outputs": [],
      "source": [
        "# Build prompt\n",
        "from langchain.prompts import PromptTemplate\n",
        "template = \"\"\"Use the following pieces of context to answer the question at the end. If you don't know the answer, just say that you don't know, don't try to make up an answer. Use three sentences maximum. Keep the answer as concise as possible. Always say \"thanks for asking!\" at the end of the answer.\n",
        "{context}\n",
        "Question: {question}\n",
        "Helpful Answer:\"\"\"\n",
        "QA_CHAIN_PROMPT = PromptTemplate(input_variables=[\"context\", \"question\"],template=template,)\n",
        "\n",
        "# Run chain\n",
        "from langchain.chains import RetrievalQA\n",
        "question = \"Is probability a class topic?\"\n",
        "qa_chain = RetrievalQA.from_chain_type(llm,\n",
        "                                       retriever=vectordb.as_retriever(),\n",
        "                                       return_source_documents=True,\n",
        "                                       chain_type_kwargs={\"prompt\": QA_CHAIN_PROMPT})\n",
        "\n",
        "\n",
        "result = qa_chain({\"query\": question})\n",
        "result[\"result\"]"
      ]
    },
    {
      "cell_type": "markdown",
      "id": "84f8d2e2",
      "metadata": {
        "id": "84f8d2e2"
      },
      "source": [
        "### Memory"
      ]
    },
    {
      "cell_type": "code",
      "execution_count": null,
      "id": "7e99e754",
      "metadata": {
        "tags": [],
        "id": "7e99e754"
      },
      "outputs": [],
      "source": [
        "from langchain.memory import ConversationBufferMemory\n",
        "memory = ConversationBufferMemory(\n",
        "    memory_key=\"chat_history\",\n",
        "    return_messages=True\n",
        ")"
      ]
    },
    {
      "cell_type": "markdown",
      "id": "244e1b7a",
      "metadata": {
        "id": "244e1b7a"
      },
      "source": [
        "### ConversationalRetrievalChain"
      ]
    },
    {
      "cell_type": "code",
      "execution_count": null,
      "id": "23700502",
      "metadata": {
        "tags": [],
        "id": "23700502"
      },
      "outputs": [],
      "source": [
        "from langchain.chains import ConversationalRetrievalChain\n",
        "retriever=vectordb.as_retriever()\n",
        "qa = ConversationalRetrievalChain.from_llm(\n",
        "    llm,\n",
        "    retriever=retriever,\n",
        "    memory=memory\n",
        ")"
      ]
    },
    {
      "cell_type": "code",
      "execution_count": null,
      "id": "e25b9fbb",
      "metadata": {
        "tags": [],
        "id": "e25b9fbb"
      },
      "outputs": [],
      "source": [
        "question = \"Is probability a class topic?\"\n",
        "result = qa({\"question\": question})"
      ]
    },
    {
      "cell_type": "code",
      "execution_count": null,
      "id": "622478ba",
      "metadata": {
        "scrolled": true,
        "tags": [],
        "id": "622478ba"
      },
      "outputs": [],
      "source": [
        "result['answer']"
      ]
    },
    {
      "cell_type": "code",
      "execution_count": null,
      "id": "5b280672",
      "metadata": {
        "tags": [],
        "id": "5b280672"
      },
      "outputs": [],
      "source": [
        "question = \"why are those prerequesites needed?\"\n",
        "result = qa({\"question\": question})"
      ]
    },
    {
      "cell_type": "code",
      "execution_count": null,
      "id": "fcd08a60",
      "metadata": {
        "tags": [],
        "id": "fcd08a60"
      },
      "outputs": [],
      "source": [
        "result['answer']"
      ]
    },
    {
      "cell_type": "markdown",
      "id": "31e0742e-2085-4635-b87d-6596925f1077",
      "metadata": {
        "tags": [],
        "id": "31e0742e-2085-4635-b87d-6596925f1077"
      },
      "source": [
        "# Create a chatbot that works on your documents"
      ]
    },
    {
      "cell_type": "code",
      "execution_count": null,
      "id": "8622a19c-0711-49aa-8d1d-9ddfb6af7032",
      "metadata": {
        "tags": [],
        "id": "8622a19c-0711-49aa-8d1d-9ddfb6af7032"
      },
      "outputs": [],
      "source": [
        "#from langchain.embeddings.openai import OpenAIEmbeddings\n",
        "from langchain.embeddings import HuggingFaceEmbeddings\n",
        "from langchain.text_splitter import CharacterTextSplitter, RecursiveCharacterTextSplitter\n",
        "from langchain.vectorstores import DocArrayInMemorySearch\n",
        "from langchain.document_loaders import TextLoader\n",
        "from langchain.chains import RetrievalQA,  ConversationalRetrievalChain\n",
        "from langchain.memory import ConversationBufferMemory\n",
        "from langchain.chat_models import ChatOpenAI\n",
        "from langchain.document_loaders import TextLoader\n",
        "from langchain.document_loaders import PyPDFLoader"
      ]
    },
    {
      "cell_type": "markdown",
      "id": "9a9e119e-7561-49ef-be37-6d6a904752af",
      "metadata": {
        "id": "9a9e119e-7561-49ef-be37-6d6a904752af"
      },
      "source": [
        "The chatbot code has been updated a bit since filming. The GUI appearance also varies depending on the platform it is running on."
      ]
    },
    {
      "cell_type": "code",
      "execution_count": null,
      "id": "d8a41222-8154-4492-95b0-b3fd1083cf5a",
      "metadata": {
        "tags": [],
        "id": "d8a41222-8154-4492-95b0-b3fd1083cf5a"
      },
      "outputs": [],
      "source": [
        "def load_db(file, chain_type, k):\n",
        "    # load documents\n",
        "    loader = PyPDFLoader(file)\n",
        "    documents = loader.load()\n",
        "    # split documents\n",
        "    text_splitter = RecursiveCharacterTextSplitter(chunk_size=1000, chunk_overlap=150)\n",
        "    docs = text_splitter.split_documents(documents)\n",
        "    # define embedding\n",
        "    #embeddings = OpenAIEmbeddings()\n",
        "    embeddings = HuggingFaceEmbeddings()\n",
        "    # create vector database from data\n",
        "    db = DocArrayInMemorySearch.from_documents(docs, embeddings)\n",
        "    # define retriever\n",
        "    retriever = db.as_retriever(search_type=\"similarity\", search_kwargs={\"k\": k})\n",
        "    # create a chatbot chain. Memory is managed externally.\n",
        "    qa = ConversationalRetrievalChain.from_llm(\n",
        "        llm = AzureMLChatOnlineEndpoint(endpoint_url=\"https://<your-endpoint>.<your_region>.inference.ml.azure.com/score\", endpoint_api_key=\"my-api-key\", content_formatter=content_formatter,),\n",
        "        chain_type=chain_type,\n",
        "        retriever=retriever,\n",
        "        return_source_documents=True,\n",
        "        return_generated_question=True,\n",
        "    )\n",
        "    return qa\n"
      ]
    },
    {
      "cell_type": "code",
      "execution_count": null,
      "id": "b525019d-3acd-40ff-9844-141116155d68",
      "metadata": {
        "tags": [],
        "id": "b525019d-3acd-40ff-9844-141116155d68"
      },
      "outputs": [],
      "source": [
        "import panel as pn\n",
        "import param\n",
        "\n",
        "class cbfs(param.Parameterized):\n",
        "    chat_history = param.List([])\n",
        "    answer = param.String(\"\")\n",
        "    db_query  = param.String(\"\")\n",
        "    db_response = param.List([])\n",
        "\n",
        "    def __init__(self,  **params):\n",
        "        super(cbfs, self).__init__( **params)\n",
        "        self.panels = []\n",
        "        self.loaded_file = \"docs/cs229_lectures/MachineLearning-Lecture01.pdf\"\n",
        "        self.qa = load_db(self.loaded_file,\"stuff\", 4)\n",
        "\n",
        "    def call_load_db(self, count):\n",
        "        if count == 0 or file_input.value is None:  # init or no file specified :\n",
        "            return pn.pane.Markdown(f\"Loaded File: {self.loaded_file}\")\n",
        "        else:\n",
        "            file_input.save(\"temp.pdf\")  # local copy\n",
        "            self.loaded_file = file_input.filename\n",
        "            button_load.button_style=\"outline\"\n",
        "            self.qa = load_db(\"temp.pdf\", \"stuff\", 4)\n",
        "            button_load.button_style=\"solid\"\n",
        "        self.clr_history()\n",
        "        return pn.pane.Markdown(f\"Loaded File: {self.loaded_file}\")\n",
        "\n",
        "    def convchain(self, query):\n",
        "        if not query:\n",
        "            return pn.WidgetBox(pn.Row('User:', pn.pane.Markdown(\"\", width=600)), scroll=True)\n",
        "        result = self.qa({\"question\": query, \"chat_history\": self.chat_history})\n",
        "        self.chat_history.extend([(query, result[\"answer\"])])\n",
        "        self.db_query = result[\"generated_question\"]\n",
        "        self.db_response = result[\"source_documents\"]\n",
        "        self.answer = result['answer']\n",
        "        self.panels.extend([\n",
        "            pn.Row('User:', pn.pane.Markdown(query, width=600)),\n",
        "            pn.Row('ChatBot:', pn.pane.Markdown(self.answer, width=600, style={'background-color': '#F6F6F6'}))\n",
        "        ])\n",
        "        inp.value = ''  #clears loading indicator when cleared\n",
        "        return pn.WidgetBox(*self.panels,scroll=True)\n",
        "\n",
        "    @param.depends('db_query ', )\n",
        "    def get_lquest(self):\n",
        "        if not self.db_query :\n",
        "            return pn.Column(\n",
        "                pn.Row(pn.pane.Markdown(f\"Last question to DB:\", styles={'background-color': '#F6F6F6'})),\n",
        "                pn.Row(pn.pane.Str(\"no DB accesses so far\"))\n",
        "            )\n",
        "        return pn.Column(\n",
        "            pn.Row(pn.pane.Markdown(f\"DB query:\", styles={'background-color': '#F6F6F6'})),\n",
        "            pn.pane.Str(self.db_query )\n",
        "        )\n",
        "\n",
        "    @param.depends('db_response', )\n",
        "    def get_sources(self):\n",
        "        if not self.db_response:\n",
        "            return\n",
        "        rlist=[pn.Row(pn.pane.Markdown(f\"Result of DB lookup:\", styles={'background-color': '#F6F6F6'}))]\n",
        "        for doc in self.db_response:\n",
        "            rlist.append(pn.Row(pn.pane.Str(doc)))\n",
        "        return pn.WidgetBox(*rlist, width=600, scroll=True)\n",
        "\n",
        "    @param.depends('convchain', 'clr_history')\n",
        "    def get_chats(self):\n",
        "        if not self.chat_history:\n",
        "            return pn.WidgetBox(pn.Row(pn.pane.Str(\"No History Yet\")), width=600, scroll=True)\n",
        "        rlist=[pn.Row(pn.pane.Markdown(f\"Current Chat History variable\", styles={'background-color': '#F6F6F6'}))]\n",
        "        for exchange in self.chat_history:\n",
        "            rlist.append(pn.Row(pn.pane.Str(exchange)))\n",
        "        return pn.WidgetBox(*rlist, width=600, scroll=True)\n",
        "\n",
        "    def clr_history(self,count=0):\n",
        "        self.chat_history = []\n",
        "        return\n"
      ]
    },
    {
      "cell_type": "markdown",
      "id": "54958d9d-2a0f-457d-9a2b-97e6c9859684",
      "metadata": {
        "tags": [],
        "id": "54958d9d-2a0f-457d-9a2b-97e6c9859684"
      },
      "source": [
        "### Create a chatbot"
      ]
    },
    {
      "cell_type": "code",
      "execution_count": null,
      "id": "73b7f691-6314-4fcc-9e48-0d09d61099fd",
      "metadata": {
        "tags": [],
        "id": "73b7f691-6314-4fcc-9e48-0d09d61099fd"
      },
      "outputs": [],
      "source": [
        "cb = cbfs()\n",
        "\n",
        "file_input = pn.widgets.FileInput(accept='.pdf')\n",
        "button_load = pn.widgets.Button(name=\"Load DB\", button_type='primary')\n",
        "button_clearhistory = pn.widgets.Button(name=\"Clear History\", button_type='warning')\n",
        "button_clearhistory.on_click(cb.clr_history)\n",
        "inp = pn.widgets.TextInput( placeholder='Enter text here…')\n",
        "\n",
        "bound_button_load = pn.bind(cb.call_load_db, button_load.param.clicks)\n",
        "conversation = pn.bind(cb.convchain, inp)\n",
        "\n",
        "jpg_pane = pn.pane.Image( './img/convchain.jpg')\n",
        "\n",
        "tab1 = pn.Column(\n",
        "    pn.Row(inp),\n",
        "    pn.layout.Divider(),\n",
        "    pn.panel(conversation,  loading_indicator=True, height=300),\n",
        "    pn.layout.Divider(),\n",
        ")\n",
        "tab2= pn.Column(\n",
        "    pn.panel(cb.get_lquest),\n",
        "    pn.layout.Divider(),\n",
        "    pn.panel(cb.get_sources ),\n",
        ")\n",
        "tab3= pn.Column(\n",
        "    pn.panel(cb.get_chats),\n",
        "    pn.layout.Divider(),\n",
        ")\n",
        "tab4=pn.Column(\n",
        "    pn.Row( file_input, button_load, bound_button_load),\n",
        "    pn.Row( button_clearhistory, pn.pane.Markdown(\"Clears chat history. Can use to start a new topic\" )),\n",
        "    pn.layout.Divider(),\n",
        "    pn.Row(jpg_pane.clone(width=400))\n",
        ")\n",
        "dashboard = pn.Column(\n",
        "    pn.Row(pn.pane.Markdown('# ChatWithYourData_Bot')),\n",
        "    pn.Tabs(('Conversation', tab1), ('Database', tab2), ('Chat History', tab3),('Configure', tab4))\n",
        ")\n",
        "dashboard"
      ]
    },
    {
      "cell_type": "markdown",
      "id": "0aebe9a1-4d7b-4e4e-bdb1-dbc071afb65d",
      "metadata": {
        "id": "0aebe9a1-4d7b-4e4e-bdb1-dbc071afb65d"
      },
      "source": [
        "Feel free to copy this code and modify it to add your own features. You can try alternate memory and retriever models by changing the configuration in `load_db` function and the `convchain` method. [Panel](https://panel.holoviz.org/) and [Param](https://param.holoviz.org/) have many useful features and widgets you can use to extend the GUI.\n"
      ]
    },
    {
      "cell_type": "markdown",
      "id": "d0275b31-b5e3-4e15-a77f-1bf30c3e04e4",
      "metadata": {
        "id": "d0275b31-b5e3-4e15-a77f-1bf30c3e04e4"
      },
      "source": [
        "## Acknowledgments\n",
        "\n",
        "Panel based chatbot inspired by Sophia Yang, [github](https://github.com/sophiamyang/tutorials-LangChain)"
      ]
    }
  ],
  "metadata": {
    "kernelspec": {
      "display_name": "Python 3 (ipykernel)",
      "language": "python",
      "name": "python3"
    },
    "language_info": {
      "codemirror_mode": {
        "name": "ipython",
        "version": 3
      },
      "file_extension": ".py",
      "mimetype": "text/x-python",
      "name": "python",
      "nbconvert_exporter": "python",
      "pygments_lexer": "ipython3",
      "version": "3.8.10"
    },
    "colab": {
      "provenance": []
    }
  },
  "nbformat": 4,
  "nbformat_minor": 5
}